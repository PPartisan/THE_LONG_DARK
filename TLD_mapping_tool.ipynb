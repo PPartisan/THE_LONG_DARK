{
 "metadata": {
  "name": "",
  "signature": "sha256:2827df83c06fab0363c738f832d51d956bdd6455461cd34bb52734ff49ae2567"
 },
 "nbformat": 3,
 "nbformat_minor": 0,
 "worksheets": [
  {
   "cells": [
    {
     "cell_type": "heading",
     "level": 1,
     "metadata": {},
     "source": [
      "The Long Dark Mapping Tool"
     ]
    },
    {
     "cell_type": "markdown",
     "metadata": {},
     "source": [
      "The MIT License (MIT)  \n",
      "Copyright (c) 2015 Lo\u00efc Norgeot  \n",
      "Permission is hereby granted, free of charge, to any person obtaining a copy  \n",
      "of this software and associated documentation files (the \"Software\"), to deal  \n",
      "in the Software without restriction, including without limitation the rights  \n",
      "to use, copy, modify, merge, publish, distribute, sublicense, and/or sell  \n",
      "copies of the Software, and to permit persons to whom the Software is  \n",
      "furnished to do so, subject to the following conditions:  \n",
      "The above copyright notice and this permission notice shall be included in all  \n",
      "copies or substantial portions of the Software.  \n",
      "THE SOFTWARE IS PROVIDED \"AS IS\", WITHOUT WARRANTY OF ANY KIND, EXPRESS OR  \n",
      "IMPLIED, INCLUDING BUT NOT LIMITED TO THE WARRANTIES OF MERCHANTABILITY,  \n",
      "FITNESS FOR A PARTICULAR PURPOSE AND NONINFRINGEMENT. IN NO EVENT SHALL THE  \n",
      "AUTHORS OR COPYRIGHT HOLDERS BE LIABLE FOR ANY CLAIM, DAMAGES OR OTHER  \n",
      "LIABILITY, WHETHER IN AN ACTION OF CONTRACT, TORT OR OTHERWISE, ARISING FROM,  \n",
      "OUT OF OR IN CONNECTION WITH THE SOFTWARE OR THE USE OR OTHER DEALINGS IN THE  \n",
      "SOFTWARE.  "
     ]
    },
    {
     "cell_type": "heading",
     "level": 2,
     "metadata": {},
     "source": [
      "1 - Map-related functions"
     ]
    },
    {
     "cell_type": "heading",
     "level": 3,
     "metadata": {},
     "source": [
      "1.0 - Module imports"
     ]
    },
    {
     "cell_type": "code",
     "collapsed": false,
     "input": [
      "import os\n",
      "import numpy as np\n",
      "import matplotlib.pyplot as plt\n",
      "from numpy import linspace, meshgrid\n",
      "from matplotlib.mlab import griddata\n",
      "from pylab import rcParams\n",
      "rcParams['figure.figsize'] = 12,8\n",
      "#import scipy.ndimage as nd"
     ],
     "language": "python",
     "metadata": {},
     "outputs": [],
     "prompt_number": 1
    },
    {
     "cell_type": "heading",
     "level": 3,
     "metadata": {},
     "source": [
      "1.1 - Screenshots and savefiles manipulation"
     ]
    },
    {
     "cell_type": "code",
     "collapsed": false,
     "input": [
      "def readCoordsFromScreenshots(path):\n",
      "    screenshots = os.listdir(path)\n",
      "    screenshots = [S for S in screenshots if \"screen\" in S]\n",
      "    coords = np.array([[int(x) for x in s[s.find(\"(\")+1:s.find(\")\")].split(\",\")] for s in screenshots])\n",
      "    return coords\n",
      "\n",
      "def readCoordsFromFile(fileName):\n",
      "    C = []\n",
      "    with open(fileName) as f:\n",
      "        content = f.readlines()\n",
      "        for c in content:\n",
      "            s = c.split(\" \")\n",
      "            C.append([int(s[0]), int(s[2]), int(s[1])])\n",
      "    return np.array(C)\n",
      "\n",
      "def writeCoordsToFile(data, fileName, mode=\"w\"):\n",
      "    with open(fileName, mode) as f:\n",
      "        for c in data:\n",
      "            f.write(str(c[0]) + \" \" + str(c[2]) + \" \" + str(c[1]) +\"\\n\" )\n",
      "\n",
      "def deleteScreenshots(path):\n",
      "    for fileName in os.listdir(path):\n",
      "        if((\".png\" in fileName) and (\"screen\" in fileName)):\n",
      "            os.remove(path + fileName)"
     ],
     "language": "python",
     "metadata": {},
     "outputs": [],
     "prompt_number": 2
    },
    {
     "cell_type": "heading",
     "level": 3,
     "metadata": {},
     "source": [
      "1.2 - Plotting"
     ]
    },
    {
     "cell_type": "code",
     "collapsed": false,
     "input": [
      "def contourPlot(data, path, save=True):\n",
      "    fig = plt.figure()\n",
      "    xi = linspace(min(data[:,0]),max(data[:,0]),111) \n",
      "    yi = linspace(min(data[:,2]),max(data[:,2]),111)\n",
      "    zi = griddata(data[:,0],data[:,2],data[:,1], xi,yi, interp='linear') \n",
      "    #zi = nd.gaussian_filter(zi, sigma=0.6, order=0)\n",
      "    plt.contour (xi,yi,zi,41,linewidths=1,colors='black') \n",
      "    plt.contourf(xi,yi,zi,82);\n",
      "    plt.colorbar()  \n",
      "    plt.grid(True)\n",
      "    plt.set_cmap('terrain')\n",
      "    if(save):\n",
      "        plt.savefig(path + \"TM_map_contour.png\",dpi=150)\n",
      "    \n",
      "def scatterPlot(data, path, save=True):\n",
      "    fig = plt.figure()\n",
      "    plt.scatter(data[:,0],data[:,2], c=data[:,1], linewidth=0,s=40)\n",
      "    plt.xlim(min(data[:,0]),max(data[:,0]))\n",
      "    plt.ylim(min(data[:,2]),max(data[:,2]))\n",
      "    plt.colorbar()  \n",
      "    plt.grid(True)\n",
      "    plt.set_cmap('terrain')\n",
      "    if(save):\n",
      "        plt.savefig(path + \"TM_map_path.png\",dpi=150)"
     ],
     "language": "python",
     "metadata": {},
     "outputs": [],
     "prompt_number": 3
    },
    {
     "cell_type": "heading",
     "level": 3,
     "metadata": {},
     "source": [
      "1.3 - User routines"
     ]
    },
    {
     "cell_type": "code",
     "collapsed": false,
     "input": [
      "def createMaps(sPath, fPath):\n",
      "    fC          = readCoordsFromFile(fPath + \"coords.txt\")\n",
      "    sC          = readCoordsFromScreenshots(sPath)\n",
      "    coordinates = np.array([]);\n",
      "\n",
      "    if( (len(fC)==0) and (len(sC)==0)):\n",
      "        print(\"No data to work on! Doing nothing...\")\n",
      "    elif( len(fC)==0 ):\n",
      "        print(\"No files, but screenshots, going on...\")\n",
      "        coordinates=sC\n",
      "        writeCoordsToFile(coordinates, fpath+ \"coords.txt\")\n",
      "        deleteScreenshots(sPath)\n",
      "    elif( len(sC)==0 ):\n",
      "        print(\"No screenshots, but files, going on...\")\n",
      "        coordinates=fC\n",
      "    else:\n",
      "        print(\"Screenshots and files! Going on...\")\n",
      "        coordinates = np.concatenate((fC, sC))\n",
      "        writeCoordsToFile(coordinates, fPath+ \"coords.txt\")\n",
      "        deleteScreenshots(sPath)\n",
      " \n",
      "    contourPlot(coordinates, fPath)\n",
      "    scatterPlot(coordinates, fPath)\n",
      "    \n",
      "def checkFile(fileName):\n",
      "    fC          = readCoordsFromFile(fileName)\n",
      "    coordinates = np.array([]);\n",
      "    if( (len(fC)==0)):\n",
      "        print(\"No data to work on! Doing nothing...\")\n",
      "    else:\n",
      "        print(\"No screenshots, but a file, going on...\")\n",
      "        print(\"Number of points in the file = \", len(coordinates))\n",
      "        coordinates=fC\n",
      "    contourPlot(coordinates, \" \", save=False)\n",
      "    scatterPlot(coordinates, \" \", save=False)"
     ],
     "language": "python",
     "metadata": {},
     "outputs": [],
     "prompt_number": 4
    },
    {
     "cell_type": "heading",
     "level": 2,
     "metadata": {},
     "source": [
      "2 - Interractive mapping functions"
     ]
    },
    {
     "cell_type": "heading",
     "level": 3,
     "metadata": {},
     "source": [
      "2.0 - Imports"
     ]
    },
    {
     "cell_type": "code",
     "collapsed": false,
     "input": [
      "from subprocess import check_output\n",
      "from win32api import keybd_event, GetAsyncKeyState\n",
      "import time"
     ],
     "language": "python",
     "metadata": {},
     "outputs": [],
     "prompt_number": 5
    },
    {
     "cell_type": "heading",
     "level": 3,
     "metadata": {},
     "source": [
      "2.1 - Functions"
     ]
    },
    {
     "cell_type": "code",
     "collapsed": false,
     "input": [
      "def isTLDRunning():\n",
      "    processes_string = check_output(\"wmic process get description\", shell=True)\n",
      "    return ('tld.exe' in processes_string.split())\n",
      "\n",
      "def press(key=0x77):\n",
      "    keybd_event(key, 0,1,0)\n",
      "    time.sleep(.05)\n",
      "    keybd_event(key, 0,2,0)\n",
      "    \n",
      "def wasPressed(key=0x76):\n",
      "    return GetAsyncKeyState(key)\n",
      "\n",
      "def startInteractiveMapping(sPath, fPath, time_step=2.5):\n",
      "    t = time.time()\n",
      "    recording = False\n",
      "\n",
      "    while(isTLDRunning()):\n",
      "\n",
      "        if(wasPressed(0x76)):\n",
      "            if not recording:\n",
      "                recording = True\n",
      "            else:\n",
      "                recording = False\n",
      "\n",
      "        if(recording):\n",
      "            if(time.time() - t > time_step):\n",
      "                press(0x77)\n",
      "                t = time.time()\n",
      "                coord = readCoordsFromScreenshots(sPath)\n",
      "                writeCoordsToFile(coord, fPath + \"coords.txt\", \"a\")\n",
      "                deleteScreenshots(sPath)\n",
      "                \n",
      "        time.sleep(0.2)\n",
      "\n",
      "    deleteScreenshots(sPath)"
     ],
     "language": "python",
     "metadata": {},
     "outputs": [],
     "prompt_number": 6
    },
    {
     "cell_type": "heading",
     "level": 2,
     "metadata": {},
     "source": [
      "3 - GUI"
     ]
    },
    {
     "cell_type": "code",
     "collapsed": false,
     "input": [
      "import Tkinter, tkFileDialog, Tkconstants\n",
      "\n",
      "class TLD_Mapping_tool_tk(Tkinter.Tk):\n",
      "    \n",
      "    mPath=\"\"\n",
      "    sPath=\"\"\n",
      "    \n",
      "    def __init__(self,parent):\n",
      "        Tkinter.Tk.__init__(self,parent)\n",
      "        self.parent = parent\n",
      "        self.initialize()\n",
      "\n",
      "    def initialize(self):\n",
      "        \n",
      "        self.grid()\n",
      "        \n",
      "        maps_bt = Tkinter.Button(self, text='Choose maps directory', command=self.chooseMapsDir)\n",
      "        maps_bt.grid(column=0,row=0,columnspan=2,sticky='EW')\n",
      "        \n",
      "        screenshots_bt = Tkinter.Button(self, text='Choose screenshots directory', command=self.chooseScreenDir)\n",
      "        screenshots_bt.grid(column=0,row=1,columnspan=2,sticky='EW')\n",
      "        \n",
      "        self.run_bt = Tkinter.Button(self,\n",
      "                                     text    = u\"Start mapping\",\n",
      "                                     state   = 'disabled',\n",
      "                                     command = lambda: startInteractiveMapping(self.sPath, self.mPath))\n",
      "        self.run_bt.grid(column=0,row=2)\n",
      "        \n",
      "        self.createmap_bt = Tkinter.Button(self,\n",
      "                                           text    = u\"Create maps\",\n",
      "                                           state   = 'disabled',\n",
      "                                           command = lambda: createMaps(self.sPath, self.mPath))\n",
      "        self.createmap_bt.grid(column=1,row=2)\n",
      "        \n",
      "        self.grid_columnconfigure(0,weight=1)\n",
      "        self.resizable(False,False)\n",
      "        \n",
      "    def enableButtons(self):\n",
      "        if self.sPath!=\"\" and self.mPath!=\"\":\n",
      "            self.run_bt['state']       = 'normal'\n",
      "            self.createmap_bt['state'] = 'normal'\n",
      "            \n",
      "    def chooseScreenDir(self):\n",
      "        self.sPath = tkFileDialog.askdirectory() + \"/\"\n",
      "        self.enableButtons()\n",
      "        \n",
      "    def chooseMapsDir(self):\n",
      "        self.mPath = tkFileDialog.askdirectory() + \"/\"\n",
      "        self.enableButtons()"
     ],
     "language": "python",
     "metadata": {},
     "outputs": [],
     "prompt_number": 7
    },
    {
     "cell_type": "heading",
     "level": 2,
     "metadata": {},
     "source": [
      "4 - Execution"
     ]
    },
    {
     "cell_type": "code",
     "collapsed": false,
     "input": [
      "if __name__ == \"__main__\":\n",
      "    app = TLD_Mapping_tool_tk(None)\n",
      "    app.title('TLD Mapping Tool')\n",
      "    app.mainloop()"
     ],
     "language": "python",
     "metadata": {},
     "outputs": [],
     "prompt_number": 8
    }
   ],
   "metadata": {}
  }
 ]
}